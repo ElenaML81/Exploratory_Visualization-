{
 "cells": [
  {
   "cell_type": "markdown",
   "id": "2f02f481",
   "metadata": {},
   "source": [
    "#### Exercici 1"
   ]
  },
  {
   "cell_type": "markdown",
   "id": "875c1c17",
   "metadata": {},
   "source": [
    "Descarrega el data set Airlines Delay: Airline on-time statistics and delay causes i carrega’l a un pandas Dataframe. Explora les dades que conté, i queda’t únicament amb les columnes que consideris rellevants."
   ]
  },
  {
   "cell_type": "code",
   "execution_count": 2,
   "id": "e32f06fa",
   "metadata": {
    "ExecuteTime": {
     "end_time": "2022-02-08T09:34:56.796396Z",
     "start_time": "2022-02-08T09:34:55.786512Z"
    }
   },
   "outputs": [],
   "source": [
    "import pandas as pd\n",
    "import matplotlib.pyplot as plt\n",
    "import matplotlib.image as mpimg"
   ]
  },
  {
   "cell_type": "markdown",
   "id": "f7b8df3f",
   "metadata": {},
   "source": [
    "Obrim el dataset i mirem les primeres files amb el mètode head()"
   ]
  },
  {
   "cell_type": "code",
   "execution_count": 3,
   "id": "eb5c1cf8",
   "metadata": {
    "ExecuteTime": {
     "end_time": "2022-02-07T18:45:35.292589Z",
     "start_time": "2022-02-07T18:45:30.813269Z"
    }
   },
   "outputs": [
    {
     "data": {
      "text/html": [
       "<div>\n",
       "<style scoped>\n",
       "    .dataframe tbody tr th:only-of-type {\n",
       "        vertical-align: middle;\n",
       "    }\n",
       "\n",
       "    .dataframe tbody tr th {\n",
       "        vertical-align: top;\n",
       "    }\n",
       "\n",
       "    .dataframe thead th {\n",
       "        text-align: right;\n",
       "    }\n",
       "</style>\n",
       "<table border=\"1\" class=\"dataframe\">\n",
       "  <thead>\n",
       "    <tr style=\"text-align: right;\">\n",
       "      <th></th>\n",
       "      <th>Unnamed: 0</th>\n",
       "      <th>Year</th>\n",
       "      <th>Month</th>\n",
       "      <th>DayofMonth</th>\n",
       "      <th>DayOfWeek</th>\n",
       "      <th>DepTime</th>\n",
       "      <th>CRSDepTime</th>\n",
       "      <th>ArrTime</th>\n",
       "      <th>CRSArrTime</th>\n",
       "      <th>UniqueCarrier</th>\n",
       "      <th>FlightNum</th>\n",
       "      <th>TailNum</th>\n",
       "      <th>ActualElapsedTime</th>\n",
       "      <th>CRSElapsedTime</th>\n",
       "      <th>AirTime</th>\n",
       "      <th>ArrDelay</th>\n",
       "      <th>DepDelay</th>\n",
       "      <th>Origin</th>\n",
       "      <th>Dest</th>\n",
       "      <th>Distance</th>\n",
       "      <th>TaxiIn</th>\n",
       "      <th>TaxiOut</th>\n",
       "      <th>Cancelled</th>\n",
       "      <th>CancellationCode</th>\n",
       "      <th>Diverted</th>\n",
       "      <th>CarrierDelay</th>\n",
       "      <th>WeatherDelay</th>\n",
       "      <th>NASDelay</th>\n",
       "      <th>SecurityDelay</th>\n",
       "      <th>LateAircraftDelay</th>\n",
       "    </tr>\n",
       "  </thead>\n",
       "  <tbody>\n",
       "    <tr>\n",
       "      <th>0</th>\n",
       "      <td>0</td>\n",
       "      <td>2008</td>\n",
       "      <td>1</td>\n",
       "      <td>3</td>\n",
       "      <td>4</td>\n",
       "      <td>2003.0</td>\n",
       "      <td>1955</td>\n",
       "      <td>2211.0</td>\n",
       "      <td>2225</td>\n",
       "      <td>WN</td>\n",
       "      <td>335</td>\n",
       "      <td>N712SW</td>\n",
       "      <td>128.0</td>\n",
       "      <td>150.0</td>\n",
       "      <td>116.0</td>\n",
       "      <td>-14.0</td>\n",
       "      <td>8.0</td>\n",
       "      <td>IAD</td>\n",
       "      <td>TPA</td>\n",
       "      <td>810</td>\n",
       "      <td>4.0</td>\n",
       "      <td>8.0</td>\n",
       "      <td>0</td>\n",
       "      <td>N</td>\n",
       "      <td>0</td>\n",
       "      <td>NaN</td>\n",
       "      <td>NaN</td>\n",
       "      <td>NaN</td>\n",
       "      <td>NaN</td>\n",
       "      <td>NaN</td>\n",
       "    </tr>\n",
       "    <tr>\n",
       "      <th>1</th>\n",
       "      <td>1</td>\n",
       "      <td>2008</td>\n",
       "      <td>1</td>\n",
       "      <td>3</td>\n",
       "      <td>4</td>\n",
       "      <td>754.0</td>\n",
       "      <td>735</td>\n",
       "      <td>1002.0</td>\n",
       "      <td>1000</td>\n",
       "      <td>WN</td>\n",
       "      <td>3231</td>\n",
       "      <td>N772SW</td>\n",
       "      <td>128.0</td>\n",
       "      <td>145.0</td>\n",
       "      <td>113.0</td>\n",
       "      <td>2.0</td>\n",
       "      <td>19.0</td>\n",
       "      <td>IAD</td>\n",
       "      <td>TPA</td>\n",
       "      <td>810</td>\n",
       "      <td>5.0</td>\n",
       "      <td>10.0</td>\n",
       "      <td>0</td>\n",
       "      <td>N</td>\n",
       "      <td>0</td>\n",
       "      <td>NaN</td>\n",
       "      <td>NaN</td>\n",
       "      <td>NaN</td>\n",
       "      <td>NaN</td>\n",
       "      <td>NaN</td>\n",
       "    </tr>\n",
       "    <tr>\n",
       "      <th>2</th>\n",
       "      <td>2</td>\n",
       "      <td>2008</td>\n",
       "      <td>1</td>\n",
       "      <td>3</td>\n",
       "      <td>4</td>\n",
       "      <td>628.0</td>\n",
       "      <td>620</td>\n",
       "      <td>804.0</td>\n",
       "      <td>750</td>\n",
       "      <td>WN</td>\n",
       "      <td>448</td>\n",
       "      <td>N428WN</td>\n",
       "      <td>96.0</td>\n",
       "      <td>90.0</td>\n",
       "      <td>76.0</td>\n",
       "      <td>14.0</td>\n",
       "      <td>8.0</td>\n",
       "      <td>IND</td>\n",
       "      <td>BWI</td>\n",
       "      <td>515</td>\n",
       "      <td>3.0</td>\n",
       "      <td>17.0</td>\n",
       "      <td>0</td>\n",
       "      <td>N</td>\n",
       "      <td>0</td>\n",
       "      <td>NaN</td>\n",
       "      <td>NaN</td>\n",
       "      <td>NaN</td>\n",
       "      <td>NaN</td>\n",
       "      <td>NaN</td>\n",
       "    </tr>\n",
       "    <tr>\n",
       "      <th>3</th>\n",
       "      <td>4</td>\n",
       "      <td>2008</td>\n",
       "      <td>1</td>\n",
       "      <td>3</td>\n",
       "      <td>4</td>\n",
       "      <td>1829.0</td>\n",
       "      <td>1755</td>\n",
       "      <td>1959.0</td>\n",
       "      <td>1925</td>\n",
       "      <td>WN</td>\n",
       "      <td>3920</td>\n",
       "      <td>N464WN</td>\n",
       "      <td>90.0</td>\n",
       "      <td>90.0</td>\n",
       "      <td>77.0</td>\n",
       "      <td>34.0</td>\n",
       "      <td>34.0</td>\n",
       "      <td>IND</td>\n",
       "      <td>BWI</td>\n",
       "      <td>515</td>\n",
       "      <td>3.0</td>\n",
       "      <td>10.0</td>\n",
       "      <td>0</td>\n",
       "      <td>N</td>\n",
       "      <td>0</td>\n",
       "      <td>2.0</td>\n",
       "      <td>0.0</td>\n",
       "      <td>0.0</td>\n",
       "      <td>0.0</td>\n",
       "      <td>32.0</td>\n",
       "    </tr>\n",
       "    <tr>\n",
       "      <th>4</th>\n",
       "      <td>5</td>\n",
       "      <td>2008</td>\n",
       "      <td>1</td>\n",
       "      <td>3</td>\n",
       "      <td>4</td>\n",
       "      <td>1940.0</td>\n",
       "      <td>1915</td>\n",
       "      <td>2121.0</td>\n",
       "      <td>2110</td>\n",
       "      <td>WN</td>\n",
       "      <td>378</td>\n",
       "      <td>N726SW</td>\n",
       "      <td>101.0</td>\n",
       "      <td>115.0</td>\n",
       "      <td>87.0</td>\n",
       "      <td>11.0</td>\n",
       "      <td>25.0</td>\n",
       "      <td>IND</td>\n",
       "      <td>JAX</td>\n",
       "      <td>688</td>\n",
       "      <td>4.0</td>\n",
       "      <td>10.0</td>\n",
       "      <td>0</td>\n",
       "      <td>N</td>\n",
       "      <td>0</td>\n",
       "      <td>NaN</td>\n",
       "      <td>NaN</td>\n",
       "      <td>NaN</td>\n",
       "      <td>NaN</td>\n",
       "      <td>NaN</td>\n",
       "    </tr>\n",
       "  </tbody>\n",
       "</table>\n",
       "</div>"
      ],
      "text/plain": [
       "   Unnamed: 0  Year  Month  DayofMonth  DayOfWeek  DepTime  CRSDepTime  \\\n",
       "0           0  2008      1           3          4   2003.0        1955   \n",
       "1           1  2008      1           3          4    754.0         735   \n",
       "2           2  2008      1           3          4    628.0         620   \n",
       "3           4  2008      1           3          4   1829.0        1755   \n",
       "4           5  2008      1           3          4   1940.0        1915   \n",
       "\n",
       "   ArrTime  CRSArrTime UniqueCarrier  FlightNum TailNum  ActualElapsedTime  \\\n",
       "0   2211.0        2225            WN        335  N712SW              128.0   \n",
       "1   1002.0        1000            WN       3231  N772SW              128.0   \n",
       "2    804.0         750            WN        448  N428WN               96.0   \n",
       "3   1959.0        1925            WN       3920  N464WN               90.0   \n",
       "4   2121.0        2110            WN        378  N726SW              101.0   \n",
       "\n",
       "   CRSElapsedTime  AirTime  ArrDelay  DepDelay Origin Dest  Distance  TaxiIn  \\\n",
       "0           150.0    116.0     -14.0       8.0    IAD  TPA       810     4.0   \n",
       "1           145.0    113.0       2.0      19.0    IAD  TPA       810     5.0   \n",
       "2            90.0     76.0      14.0       8.0    IND  BWI       515     3.0   \n",
       "3            90.0     77.0      34.0      34.0    IND  BWI       515     3.0   \n",
       "4           115.0     87.0      11.0      25.0    IND  JAX       688     4.0   \n",
       "\n",
       "   TaxiOut  Cancelled CancellationCode  Diverted  CarrierDelay  WeatherDelay  \\\n",
       "0      8.0          0                N         0           NaN           NaN   \n",
       "1     10.0          0                N         0           NaN           NaN   \n",
       "2     17.0          0                N         0           NaN           NaN   \n",
       "3     10.0          0                N         0           2.0           0.0   \n",
       "4     10.0          0                N         0           NaN           NaN   \n",
       "\n",
       "   NASDelay  SecurityDelay  LateAircraftDelay  \n",
       "0       NaN            NaN                NaN  \n",
       "1       NaN            NaN                NaN  \n",
       "2       NaN            NaN                NaN  \n",
       "3       0.0            0.0               32.0  \n",
       "4       NaN            NaN                NaN  "
      ]
     },
     "execution_count": 3,
     "metadata": {},
     "output_type": "execute_result"
    }
   ],
   "source": [
    "df = pd.read_csv('DelayedFlights.csv')    \n",
    "pd.set_option('display.max_columns', None) # per veure totes les columnes \n",
    "df.head()"
   ]
  },
  {
   "cell_type": "markdown",
   "id": "60f85688",
   "metadata": {
    "ExecuteTime": {
     "end_time": "2022-02-02T16:15:19.863760Z",
     "start_time": "2022-02-02T16:15:19.856692Z"
    }
   },
   "source": [
    "Veiem que hi han varies columnes que fan referència al temps de retràs, en aquest aspecte per aquest exercici agafaré per medir el retràs la columna 'ArrDelay' que fa referència a l'endarreriment del vol en arribar al destí.\n",
    "\n",
    "De les altres columnes agafaré DayOfWeek, Month, UniqueCarrier, AirTime, Distance, Origin i Destination. Vull veure si amb aquesta informació podem treure alguna relació amb el temps de retràs, no vol dir que les columnes restants no siguin importants o puguin contenir informació útil.\n",
    "\n",
    "Veiem el nom de totes les columnes per seleccionar les que ens interessen:"
   ]
  },
  {
   "cell_type": "code",
   "execution_count": 4,
   "id": "19e96ce8",
   "metadata": {
    "ExecuteTime": {
     "end_time": "2022-02-07T18:45:35.308554Z",
     "start_time": "2022-02-07T18:45:35.293590Z"
    }
   },
   "outputs": [
    {
     "data": {
      "text/plain": [
       "Index(['Unnamed: 0', 'Year', 'Month', 'DayofMonth', 'DayOfWeek', 'DepTime',\n",
       "       'CRSDepTime', 'ArrTime', 'CRSArrTime', 'UniqueCarrier', 'FlightNum',\n",
       "       'TailNum', 'ActualElapsedTime', 'CRSElapsedTime', 'AirTime', 'ArrDelay',\n",
       "       'DepDelay', 'Origin', 'Dest', 'Distance', 'TaxiIn', 'TaxiOut',\n",
       "       'Cancelled', 'CancellationCode', 'Diverted', 'CarrierDelay',\n",
       "       'WeatherDelay', 'NASDelay', 'SecurityDelay', 'LateAircraftDelay'],\n",
       "      dtype='object')"
      ]
     },
     "execution_count": 4,
     "metadata": {},
     "output_type": "execute_result"
    }
   ],
   "source": [
    "df.columns"
   ]
  },
  {
   "cell_type": "code",
   "execution_count": 5,
   "id": "109f5221",
   "metadata": {
    "ExecuteTime": {
     "end_time": "2022-02-07T18:45:35.451178Z",
     "start_time": "2022-02-07T18:45:35.311622Z"
    }
   },
   "outputs": [
    {
     "name": "stdout",
     "output_type": "stream",
     "text": [
      "<class 'pandas.core.frame.DataFrame'>\n",
      "RangeIndex: 1936758 entries, 0 to 1936757\n",
      "Data columns (total 8 columns):\n",
      " #   Column         Dtype  \n",
      "---  ------         -----  \n",
      " 0   Month          int64  \n",
      " 1   DayOfWeek      int64  \n",
      " 2   UniqueCarrier  object \n",
      " 3   AirTime        float64\n",
      " 4   ArrDelay       float64\n",
      " 5   Origin         object \n",
      " 6   Dest           object \n",
      " 7   Distance       int64  \n",
      "dtypes: float64(2), int64(3), object(3)\n",
      "memory usage: 118.2+ MB\n"
     ]
    }
   ],
   "source": [
    "# creem una copia del dataframe amb les columnes que hem selecionat: \n",
    "delayed = df[['Month', 'DayOfWeek', 'UniqueCarrier', 'AirTime','ArrDelay', 'Origin', 'Dest', 'Distance']].copy()\n",
    "delayed.info()"
   ]
  },
  {
   "cell_type": "markdown",
   "id": "ed02f6dd",
   "metadata": {},
   "source": [
    "El nou dataframe té ara 9 columnes i 1936758 files. "
   ]
  },
  {
   "cell_type": "markdown",
   "id": "41ee3882",
   "metadata": {},
   "source": [
    "#### Exercici 2"
   ]
  },
  {
   "cell_type": "markdown",
   "id": "57bad4de",
   "metadata": {},
   "source": [
    "Fes un informe complet del data set:.\n",
    "\n",
    "+ Resumeix estadísticament les columnes d’interès\n",
    "+ Troba quantes dades faltants hi ha per columna\n",
    "+ Crea columnes noves (velocitat mitjana del vol, si ha arribat tard o no...)\n",
    "+ Taula de les aerolínies amb més endarreriments acumulats\n",
    "+ Quins són els vols més llargs? I els més endarrerits?\n",
    "+ Etc."
   ]
  },
  {
   "cell_type": "markdown",
   "id": "441a03e0",
   "metadata": {},
   "source": [
    "Primer mirem les **dades faltants** que hi ha per columna: "
   ]
  },
  {
   "cell_type": "code",
   "execution_count": 6,
   "id": "2a7b3420",
   "metadata": {
    "ExecuteTime": {
     "end_time": "2022-02-07T18:45:35.688422Z",
     "start_time": "2022-02-07T18:45:35.452122Z"
    }
   },
   "outputs": [
    {
     "data": {
      "text/plain": [
       "Month               0\n",
       "DayOfWeek           0\n",
       "UniqueCarrier       0\n",
       "AirTime          8387\n",
       "ArrDelay         8387\n",
       "Origin              0\n",
       "Dest                0\n",
       "Distance            0\n",
       "dtype: int64"
      ]
     },
     "execution_count": 6,
     "metadata": {},
     "output_type": "execute_result"
    }
   ],
   "source": [
    "delayed.isnull().sum()"
   ]
  },
  {
   "cell_type": "markdown",
   "id": "ae7020e6",
   "metadata": {},
   "source": [
    "Podem observar que a la columna AirTime i a la columna ArrDelay hi ha 8387 dades que falten. Tenint en compte que es tracta d'un percentatge molt petit respecte a les dades totals eliminarem aquestes files."
   ]
  },
  {
   "cell_type": "code",
   "execution_count": 7,
   "id": "1315565a",
   "metadata": {
    "ExecuteTime": {
     "end_time": "2022-02-07T18:45:36.055662Z",
     "start_time": "2022-02-07T18:45:35.689369Z"
    }
   },
   "outputs": [
    {
     "data": {
      "text/plain": [
       "(1928371, 8)"
      ]
     },
     "execution_count": 7,
     "metadata": {},
     "output_type": "execute_result"
    }
   ],
   "source": [
    "delayed.dropna(inplace=True) # fem servir inplace = True per actualitzar el nostre dataframe\n",
    "delayed.shape"
   ]
  },
  {
   "cell_type": "markdown",
   "id": "17fa3908",
   "metadata": {},
   "source": [
    "Veiem que s´han eliminat del dataframe 8387 files que contenien dades faltants. "
   ]
  },
  {
   "cell_type": "markdown",
   "id": "1aa9d4f4",
   "metadata": {
    "ExecuteTime": {
     "end_time": "2022-02-02T16:24:22.160023Z",
     "start_time": "2022-02-02T16:24:22.152096Z"
    }
   },
   "source": [
    "#### Resum estadístic de les columnes amb variables numèriques"
   ]
  },
  {
   "cell_type": "markdown",
   "id": "539a920f",
   "metadata": {},
   "source": [
    "Ara mirarem un resum estadístic de les columnes amb dades numèriques : AirTime, ArrDelay y Distance. "
   ]
  },
  {
   "cell_type": "code",
   "execution_count": 8,
   "id": "15db904b",
   "metadata": {
    "ExecuteTime": {
     "end_time": "2022-02-07T18:45:36.262908Z",
     "start_time": "2022-02-07T18:45:36.056655Z"
    }
   },
   "outputs": [
    {
     "data": {
      "text/html": [
       "<div>\n",
       "<style scoped>\n",
       "    .dataframe tbody tr th:only-of-type {\n",
       "        vertical-align: middle;\n",
       "    }\n",
       "\n",
       "    .dataframe tbody tr th {\n",
       "        vertical-align: top;\n",
       "    }\n",
       "\n",
       "    .dataframe thead th {\n",
       "        text-align: right;\n",
       "    }\n",
       "</style>\n",
       "<table border=\"1\" class=\"dataframe\">\n",
       "  <thead>\n",
       "    <tr style=\"text-align: right;\">\n",
       "      <th></th>\n",
       "      <th>AirTime</th>\n",
       "      <th>ArrDelay</th>\n",
       "      <th>Distance</th>\n",
       "    </tr>\n",
       "  </thead>\n",
       "  <tbody>\n",
       "    <tr>\n",
       "      <th>count</th>\n",
       "      <td>1928371.00000</td>\n",
       "      <td>1928371.00000</td>\n",
       "      <td>1928371.00000</td>\n",
       "    </tr>\n",
       "    <tr>\n",
       "      <th>mean</th>\n",
       "      <td>108.27715</td>\n",
       "      <td>42.19988</td>\n",
       "      <td>764.94860</td>\n",
       "    </tr>\n",
       "    <tr>\n",
       "      <th>std</th>\n",
       "      <td>68.64261</td>\n",
       "      <td>56.78472</td>\n",
       "      <td>573.88577</td>\n",
       "    </tr>\n",
       "    <tr>\n",
       "      <th>min</th>\n",
       "      <td>0.00000</td>\n",
       "      <td>-109.00000</td>\n",
       "      <td>11.00000</td>\n",
       "    </tr>\n",
       "    <tr>\n",
       "      <th>25%</th>\n",
       "      <td>58.00000</td>\n",
       "      <td>9.00000</td>\n",
       "      <td>338.00000</td>\n",
       "    </tr>\n",
       "    <tr>\n",
       "      <th>50%</th>\n",
       "      <td>90.00000</td>\n",
       "      <td>24.00000</td>\n",
       "      <td>606.00000</td>\n",
       "    </tr>\n",
       "    <tr>\n",
       "      <th>75%</th>\n",
       "      <td>137.00000</td>\n",
       "      <td>56.00000</td>\n",
       "      <td>997.00000</td>\n",
       "    </tr>\n",
       "    <tr>\n",
       "      <th>max</th>\n",
       "      <td>1091.00000</td>\n",
       "      <td>2461.00000</td>\n",
       "      <td>4962.00000</td>\n",
       "    </tr>\n",
       "  </tbody>\n",
       "</table>\n",
       "</div>"
      ],
      "text/plain": [
       "             AirTime       ArrDelay       Distance\n",
       "count  1928371.00000  1928371.00000  1928371.00000\n",
       "mean       108.27715       42.19988      764.94860\n",
       "std         68.64261       56.78472      573.88577\n",
       "min          0.00000     -109.00000       11.00000\n",
       "25%         58.00000        9.00000      338.00000\n",
       "50%         90.00000       24.00000      606.00000\n",
       "75%        137.00000       56.00000      997.00000\n",
       "max       1091.00000     2461.00000     4962.00000"
      ]
     },
     "execution_count": 8,
     "metadata": {},
     "output_type": "execute_result"
    }
   ],
   "source": [
    "# fem servir un mètode per evitar que els resultats surtin en forma exponencial\n",
    "delayed[['AirTime','ArrDelay', 'Distance']].describe().apply(lambda s: s.apply('{0:.5f}'.format)) "
   ]
  },
  {
   "cell_type": "markdown",
   "id": "f0f6cf9c",
   "metadata": {},
   "source": [
    "La columna AirTime conté valors on el temps de vol és igual a zero. Entenem que aixó es erroni, eliminarem les files on el resultat es zero ja que si no ens donarà error posteriorment quan calculem la velocitat del vol (haurem de dividir la 'Distance' entre 'AirTime')."
   ]
  },
  {
   "cell_type": "code",
   "execution_count": 9,
   "id": "11ffad0f",
   "metadata": {
    "ExecuteTime": {
     "end_time": "2022-02-07T18:45:36.691427Z",
     "start_time": "2022-02-07T18:45:36.263852Z"
    }
   },
   "outputs": [
    {
     "data": {
      "text/html": [
       "<div>\n",
       "<style scoped>\n",
       "    .dataframe tbody tr th:only-of-type {\n",
       "        vertical-align: middle;\n",
       "    }\n",
       "\n",
       "    .dataframe tbody tr th {\n",
       "        vertical-align: top;\n",
       "    }\n",
       "\n",
       "    .dataframe thead th {\n",
       "        text-align: right;\n",
       "    }\n",
       "</style>\n",
       "<table border=\"1\" class=\"dataframe\">\n",
       "  <thead>\n",
       "    <tr style=\"text-align: right;\">\n",
       "      <th></th>\n",
       "      <th>AirTime</th>\n",
       "      <th>ArrDelay</th>\n",
       "      <th>Distance</th>\n",
       "    </tr>\n",
       "  </thead>\n",
       "  <tbody>\n",
       "    <tr>\n",
       "      <th>count</th>\n",
       "      <td>1928364.00000</td>\n",
       "      <td>1928364.00000</td>\n",
       "      <td>1928364.00000</td>\n",
       "    </tr>\n",
       "    <tr>\n",
       "      <th>mean</th>\n",
       "      <td>108.27754</td>\n",
       "      <td>42.19976</td>\n",
       "      <td>764.94962</td>\n",
       "    </tr>\n",
       "    <tr>\n",
       "      <th>std</th>\n",
       "      <td>68.64242</td>\n",
       "      <td>56.78466</td>\n",
       "      <td>573.88610</td>\n",
       "    </tr>\n",
       "    <tr>\n",
       "      <th>min</th>\n",
       "      <td>1.00000</td>\n",
       "      <td>-109.00000</td>\n",
       "      <td>11.00000</td>\n",
       "    </tr>\n",
       "    <tr>\n",
       "      <th>25%</th>\n",
       "      <td>58.00000</td>\n",
       "      <td>9.00000</td>\n",
       "      <td>338.00000</td>\n",
       "    </tr>\n",
       "    <tr>\n",
       "      <th>50%</th>\n",
       "      <td>90.00000</td>\n",
       "      <td>24.00000</td>\n",
       "      <td>606.00000</td>\n",
       "    </tr>\n",
       "    <tr>\n",
       "      <th>75%</th>\n",
       "      <td>137.00000</td>\n",
       "      <td>56.00000</td>\n",
       "      <td>997.00000</td>\n",
       "    </tr>\n",
       "    <tr>\n",
       "      <th>max</th>\n",
       "      <td>1091.00000</td>\n",
       "      <td>2461.00000</td>\n",
       "      <td>4962.00000</td>\n",
       "    </tr>\n",
       "  </tbody>\n",
       "</table>\n",
       "</div>"
      ],
      "text/plain": [
       "             AirTime       ArrDelay       Distance\n",
       "count  1928364.00000  1928364.00000  1928364.00000\n",
       "mean       108.27754       42.19976      764.94962\n",
       "std         68.64242       56.78466      573.88610\n",
       "min          1.00000     -109.00000       11.00000\n",
       "25%         58.00000        9.00000      338.00000\n",
       "50%         90.00000       24.00000      606.00000\n",
       "75%        137.00000       56.00000      997.00000\n",
       "max       1091.00000     2461.00000     4962.00000"
      ]
     },
     "execution_count": 9,
     "metadata": {},
     "output_type": "execute_result"
    }
   ],
   "source": [
    "# fem servir el mètode drop per eliminar les files on 'AirTime' sigui 0\n",
    "delayed.drop(delayed[delayed['AirTime'] == 0].index, inplace= True)\n",
    "delayed[['AirTime','ArrDelay', 'Distance']].describe().apply(lambda s: s.apply('{0:.5f}'.format)) "
   ]
  },
  {
   "cell_type": "markdown",
   "id": "d8712ecd",
   "metadata": {},
   "source": [
    "Veiem que s'han eliminat 7 files en total. Podem fer un breu resum de les dades: "
   ]
  },
  {
   "cell_type": "markdown",
   "id": "0bcb7c5a",
   "metadata": {},
   "source": [
    "* **AirTime**: Ens diu que el temps mitjá de vol son 108 minuts. La desviació estandar és relativament baixa (més baixa que el valor mitjà), aixó vol dir que les dades no són molt disperses. El 50 % dels vols té una duració  de menys de 90 minuts. Hauríem d'investigar més a fons els valors mínim i màxim per veure si hi han errors en les dades, ja que el temps de vol més baix és 1 minut i el més alt son 18 hores."
   ]
  },
  {
   "cell_type": "markdown",
   "id": "747f9ec5",
   "metadata": {},
   "source": [
    "* **Distance**: En aquest cas veiem que la distància mitjana és de 764 milles i que el 75 % de vols recorren una distància inferior a 997 milles, sembla que les dades són bastant concentrades en aquest cas."
   ]
  },
  {
   "cell_type": "markdown",
   "id": "222e09f7",
   "metadata": {},
   "source": [
    "Si agafem la columna 'Distance' podem veure **els vols més llargs**, ordenant la columna en ordre descendent mirarem quines són les distàncies més grans"
   ]
  },
  {
   "cell_type": "code",
   "execution_count": 10,
   "id": "e8d6908a",
   "metadata": {
    "ExecuteTime": {
     "end_time": "2022-02-07T18:45:37.070562Z",
     "start_time": "2022-02-07T18:45:36.693382Z"
    }
   },
   "outputs": [
    {
     "data": {
      "text/html": [
       "<div>\n",
       "<style scoped>\n",
       "    .dataframe tbody tr th:only-of-type {\n",
       "        vertical-align: middle;\n",
       "    }\n",
       "\n",
       "    .dataframe tbody tr th {\n",
       "        vertical-align: top;\n",
       "    }\n",
       "\n",
       "    .dataframe thead th {\n",
       "        text-align: right;\n",
       "    }\n",
       "</style>\n",
       "<table border=\"1\" class=\"dataframe\">\n",
       "  <thead>\n",
       "    <tr style=\"text-align: right;\">\n",
       "      <th></th>\n",
       "      <th>Month</th>\n",
       "      <th>DayOfWeek</th>\n",
       "      <th>UniqueCarrier</th>\n",
       "      <th>AirTime</th>\n",
       "      <th>ArrDelay</th>\n",
       "      <th>Origin</th>\n",
       "      <th>Dest</th>\n",
       "      <th>Distance</th>\n",
       "    </tr>\n",
       "  </thead>\n",
       "  <tbody>\n",
       "    <tr>\n",
       "      <th>718764</th>\n",
       "      <td>4</td>\n",
       "      <td>3</td>\n",
       "      <td>CO</td>\n",
       "      <td>565.0</td>\n",
       "      <td>45.0</td>\n",
       "      <td>HNL</td>\n",
       "      <td>EWR</td>\n",
       "      <td>4962</td>\n",
       "    </tr>\n",
       "    <tr>\n",
       "      <th>1724446</th>\n",
       "      <td>11</td>\n",
       "      <td>7</td>\n",
       "      <td>CO</td>\n",
       "      <td>616.0</td>\n",
       "      <td>62.0</td>\n",
       "      <td>EWR</td>\n",
       "      <td>HNL</td>\n",
       "      <td>4962</td>\n",
       "    </tr>\n",
       "    <tr>\n",
       "      <th>1618877</th>\n",
       "      <td>10</td>\n",
       "      <td>2</td>\n",
       "      <td>CO</td>\n",
       "      <td>607.0</td>\n",
       "      <td>-10.0</td>\n",
       "      <td>EWR</td>\n",
       "      <td>HNL</td>\n",
       "      <td>4962</td>\n",
       "    </tr>\n",
       "    <tr>\n",
       "      <th>556372</th>\n",
       "      <td>3</td>\n",
       "      <td>3</td>\n",
       "      <td>CO</td>\n",
       "      <td>641.0</td>\n",
       "      <td>21.0</td>\n",
       "      <td>EWR</td>\n",
       "      <td>HNL</td>\n",
       "      <td>4962</td>\n",
       "    </tr>\n",
       "    <tr>\n",
       "      <th>1519995</th>\n",
       "      <td>9</td>\n",
       "      <td>4</td>\n",
       "      <td>CO</td>\n",
       "      <td>586.0</td>\n",
       "      <td>15.0</td>\n",
       "      <td>EWR</td>\n",
       "      <td>HNL</td>\n",
       "      <td>4962</td>\n",
       "    </tr>\n",
       "    <tr>\n",
       "      <th>1518539</th>\n",
       "      <td>9</td>\n",
       "      <td>4</td>\n",
       "      <td>CO</td>\n",
       "      <td>603.0</td>\n",
       "      <td>27.0</td>\n",
       "      <td>EWR</td>\n",
       "      <td>HNL</td>\n",
       "      <td>4962</td>\n",
       "    </tr>\n",
       "    <tr>\n",
       "      <th>1252164</th>\n",
       "      <td>7</td>\n",
       "      <td>7</td>\n",
       "      <td>CO</td>\n",
       "      <td>588.0</td>\n",
       "      <td>15.0</td>\n",
       "      <td>EWR</td>\n",
       "      <td>HNL</td>\n",
       "      <td>4962</td>\n",
       "    </tr>\n",
       "    <tr>\n",
       "      <th>1519874</th>\n",
       "      <td>9</td>\n",
       "      <td>6</td>\n",
       "      <td>CO</td>\n",
       "      <td>603.0</td>\n",
       "      <td>-7.0</td>\n",
       "      <td>EWR</td>\n",
       "      <td>HNL</td>\n",
       "      <td>4962</td>\n",
       "    </tr>\n",
       "    <tr>\n",
       "      <th>870898</th>\n",
       "      <td>5</td>\n",
       "      <td>4</td>\n",
       "      <td>CO</td>\n",
       "      <td>589.0</td>\n",
       "      <td>-4.0</td>\n",
       "      <td>EWR</td>\n",
       "      <td>HNL</td>\n",
       "      <td>4962</td>\n",
       "    </tr>\n",
       "    <tr>\n",
       "      <th>556373</th>\n",
       "      <td>3</td>\n",
       "      <td>4</td>\n",
       "      <td>CO</td>\n",
       "      <td>634.0</td>\n",
       "      <td>92.0</td>\n",
       "      <td>EWR</td>\n",
       "      <td>HNL</td>\n",
       "      <td>4962</td>\n",
       "    </tr>\n",
       "  </tbody>\n",
       "</table>\n",
       "</div>"
      ],
      "text/plain": [
       "         Month  DayOfWeek UniqueCarrier  AirTime  ArrDelay Origin Dest  \\\n",
       "718764       4          3            CO    565.0      45.0    HNL  EWR   \n",
       "1724446     11          7            CO    616.0      62.0    EWR  HNL   \n",
       "1618877     10          2            CO    607.0     -10.0    EWR  HNL   \n",
       "556372       3          3            CO    641.0      21.0    EWR  HNL   \n",
       "1519995      9          4            CO    586.0      15.0    EWR  HNL   \n",
       "1518539      9          4            CO    603.0      27.0    EWR  HNL   \n",
       "1252164      7          7            CO    588.0      15.0    EWR  HNL   \n",
       "1519874      9          6            CO    603.0      -7.0    EWR  HNL   \n",
       "870898       5          4            CO    589.0      -4.0    EWR  HNL   \n",
       "556373       3          4            CO    634.0      92.0    EWR  HNL   \n",
       "\n",
       "         Distance  \n",
       "718764       4962  \n",
       "1724446      4962  \n",
       "1618877      4962  \n",
       "556372       4962  \n",
       "1519995      4962  \n",
       "1518539      4962  \n",
       "1252164      4962  \n",
       "1519874      4962  \n",
       "870898       4962  \n",
       "556373       4962  "
      ]
     },
     "execution_count": 10,
     "metadata": {},
     "output_type": "execute_result"
    }
   ],
   "source": [
    "longest_flights = delayed.sort_values(by= ['Distance'], ascending = False)\n",
    "longest_flights[:10] # mirarem els 10 primers vols"
   ]
  },
  {
   "cell_type": "markdown",
   "id": "b0ceadeb",
   "metadata": {},
   "source": [
    "Els vols més llargs són els que van de HNL a EWR (de Honolulu a Newark)."
   ]
  },
  {
   "cell_type": "markdown",
   "id": "296f2b85",
   "metadata": {},
   "source": [
    "Amb les columnes 'AirTime' i 'Distance' podem afegir una columna que ens digui la **velocitat mitjana del vol** en milles per hora, l'anomenarem 'FlightSpeed'. Podem fer:"
   ]
  },
  {
   "cell_type": "code",
   "execution_count": 11,
   "id": "5adb0b5d",
   "metadata": {
    "ExecuteTime": {
     "end_time": "2022-02-07T18:45:37.117048Z",
     "start_time": "2022-02-07T18:45:37.074567Z"
    }
   },
   "outputs": [
    {
     "data": {
      "text/html": [
       "<div>\n",
       "<style scoped>\n",
       "    .dataframe tbody tr th:only-of-type {\n",
       "        vertical-align: middle;\n",
       "    }\n",
       "\n",
       "    .dataframe tbody tr th {\n",
       "        vertical-align: top;\n",
       "    }\n",
       "\n",
       "    .dataframe thead th {\n",
       "        text-align: right;\n",
       "    }\n",
       "</style>\n",
       "<table border=\"1\" class=\"dataframe\">\n",
       "  <thead>\n",
       "    <tr style=\"text-align: right;\">\n",
       "      <th></th>\n",
       "      <th>Month</th>\n",
       "      <th>DayOfWeek</th>\n",
       "      <th>UniqueCarrier</th>\n",
       "      <th>AirTime</th>\n",
       "      <th>ArrDelay</th>\n",
       "      <th>Origin</th>\n",
       "      <th>Dest</th>\n",
       "      <th>Distance</th>\n",
       "      <th>FlightSpeed</th>\n",
       "    </tr>\n",
       "  </thead>\n",
       "  <tbody>\n",
       "    <tr>\n",
       "      <th>0</th>\n",
       "      <td>1</td>\n",
       "      <td>4</td>\n",
       "      <td>WN</td>\n",
       "      <td>116.0</td>\n",
       "      <td>-14.0</td>\n",
       "      <td>IAD</td>\n",
       "      <td>TPA</td>\n",
       "      <td>810</td>\n",
       "      <td>418.965517</td>\n",
       "    </tr>\n",
       "    <tr>\n",
       "      <th>1</th>\n",
       "      <td>1</td>\n",
       "      <td>4</td>\n",
       "      <td>WN</td>\n",
       "      <td>113.0</td>\n",
       "      <td>2.0</td>\n",
       "      <td>IAD</td>\n",
       "      <td>TPA</td>\n",
       "      <td>810</td>\n",
       "      <td>430.088496</td>\n",
       "    </tr>\n",
       "    <tr>\n",
       "      <th>2</th>\n",
       "      <td>1</td>\n",
       "      <td>4</td>\n",
       "      <td>WN</td>\n",
       "      <td>76.0</td>\n",
       "      <td>14.0</td>\n",
       "      <td>IND</td>\n",
       "      <td>BWI</td>\n",
       "      <td>515</td>\n",
       "      <td>406.578947</td>\n",
       "    </tr>\n",
       "    <tr>\n",
       "      <th>3</th>\n",
       "      <td>1</td>\n",
       "      <td>4</td>\n",
       "      <td>WN</td>\n",
       "      <td>77.0</td>\n",
       "      <td>34.0</td>\n",
       "      <td>IND</td>\n",
       "      <td>BWI</td>\n",
       "      <td>515</td>\n",
       "      <td>401.298701</td>\n",
       "    </tr>\n",
       "    <tr>\n",
       "      <th>4</th>\n",
       "      <td>1</td>\n",
       "      <td>4</td>\n",
       "      <td>WN</td>\n",
       "      <td>87.0</td>\n",
       "      <td>11.0</td>\n",
       "      <td>IND</td>\n",
       "      <td>JAX</td>\n",
       "      <td>688</td>\n",
       "      <td>474.482759</td>\n",
       "    </tr>\n",
       "  </tbody>\n",
       "</table>\n",
       "</div>"
      ],
      "text/plain": [
       "   Month  DayOfWeek UniqueCarrier  AirTime  ArrDelay Origin Dest  Distance  \\\n",
       "0      1          4            WN    116.0     -14.0    IAD  TPA       810   \n",
       "1      1          4            WN    113.0       2.0    IAD  TPA       810   \n",
       "2      1          4            WN     76.0      14.0    IND  BWI       515   \n",
       "3      1          4            WN     77.0      34.0    IND  BWI       515   \n",
       "4      1          4            WN     87.0      11.0    IND  JAX       688   \n",
       "\n",
       "   FlightSpeed  \n",
       "0   418.965517  \n",
       "1   430.088496  \n",
       "2   406.578947  \n",
       "3   401.298701  \n",
       "4   474.482759  "
      ]
     },
     "execution_count": 11,
     "metadata": {},
     "output_type": "execute_result"
    }
   ],
   "source": [
    "delayed['FlightSpeed'] = (delayed['Distance'] / delayed['AirTime']) *60 \n",
    "delayed.head()"
   ]
  },
  {
   "cell_type": "markdown",
   "id": "416b3a83",
   "metadata": {},
   "source": [
    "Ara ja podem calcular la velocitat mitjana de tots els vols: "
   ]
  },
  {
   "cell_type": "code",
   "execution_count": 12,
   "id": "8a4042a4",
   "metadata": {
    "ExecuteTime": {
     "end_time": "2022-02-07T18:45:37.133159Z",
     "start_time": "2022-02-07T18:45:37.117960Z"
    }
   },
   "outputs": [
    {
     "data": {
      "text/plain": [
       "396.95266736489657"
      ]
     },
     "execution_count": 12,
     "metadata": {},
     "output_type": "execute_result"
    }
   ],
   "source": [
    "delayed['FlightSpeed'].mean()"
   ]
  },
  {
   "cell_type": "markdown",
   "id": "d8c11c4b",
   "metadata": {
    "ExecuteTime": {
     "end_time": "2022-02-02T16:36:21.992080Z",
     "start_time": "2022-02-02T16:36:21.986105Z"
    }
   },
   "source": [
    "Ens diu que la **velocitat mitjana dels vols és de 396,95 milles per hora**. "
   ]
  },
  {
   "cell_type": "markdown",
   "id": "ee829a1d",
   "metadata": {},
   "source": [
    "* **ArrDelay**: En el temps de retràs en l'arribada podem dir que el temps mitjà és de 42 minuts, pero veiem que aquí la desviació stándar és molt alta (56,78 minuts, més alta que el valor mitjà). Això ens pot dur a pensar que les dades estan molt disperses, encara que veiem que el 50% de vols té un retràs inferior a 24 minuts, aixó es molt per sota de la mitja. Es posible que al poder tenir **valors negatius** (vols que arriben amb antelació) tingui efecte a la baixa en la mitja pero en realitat hi hagi molts vols amb retràs elevat. Investigarem una mica més aquesta dada. "
   ]
  },
  {
   "cell_type": "markdown",
   "id": "856bcbea",
   "metadata": {
    "ExecuteTime": {
     "end_time": "2022-02-02T16:38:52.570162Z",
     "start_time": "2022-02-02T16:38:52.560128Z"
    }
   },
   "source": [
    "Crearem una nova columna que anomenarem 'DelayInterval' amb els intervals de retràs per poder representar aquesta informació visualment. Definirem quatre franjes de temps de retràs: \n",
    "\n",
    "* Menys de 15 minuts\n",
    "* Entre 15 i 30 minuts \n",
    "* Entre 30 i 60 minuts \n",
    "* 60 o més minuts"
   ]
  },
  {
   "cell_type": "code",
   "execution_count": 13,
   "id": "e8145137",
   "metadata": {
    "ExecuteTime": {
     "end_time": "2022-02-07T18:45:37.562652Z",
     "start_time": "2022-02-07T18:45:37.135163Z"
    }
   },
   "outputs": [
    {
     "data": {
      "text/html": [
       "<div>\n",
       "<style scoped>\n",
       "    .dataframe tbody tr th:only-of-type {\n",
       "        vertical-align: middle;\n",
       "    }\n",
       "\n",
       "    .dataframe tbody tr th {\n",
       "        vertical-align: top;\n",
       "    }\n",
       "\n",
       "    .dataframe thead th {\n",
       "        text-align: right;\n",
       "    }\n",
       "</style>\n",
       "<table border=\"1\" class=\"dataframe\">\n",
       "  <thead>\n",
       "    <tr style=\"text-align: right;\">\n",
       "      <th></th>\n",
       "      <th>Month</th>\n",
       "      <th>DayOfWeek</th>\n",
       "      <th>UniqueCarrier</th>\n",
       "      <th>AirTime</th>\n",
       "      <th>ArrDelay</th>\n",
       "      <th>Origin</th>\n",
       "      <th>Dest</th>\n",
       "      <th>Distance</th>\n",
       "      <th>FlightSpeed</th>\n",
       "      <th>DelayInterval</th>\n",
       "    </tr>\n",
       "  </thead>\n",
       "  <tbody>\n",
       "    <tr>\n",
       "      <th>0</th>\n",
       "      <td>1</td>\n",
       "      <td>4</td>\n",
       "      <td>WN</td>\n",
       "      <td>116.0</td>\n",
       "      <td>-14.0</td>\n",
       "      <td>IAD</td>\n",
       "      <td>TPA</td>\n",
       "      <td>810</td>\n",
       "      <td>418.965517</td>\n",
       "      <td>Less than 15</td>\n",
       "    </tr>\n",
       "    <tr>\n",
       "      <th>1</th>\n",
       "      <td>1</td>\n",
       "      <td>4</td>\n",
       "      <td>WN</td>\n",
       "      <td>113.0</td>\n",
       "      <td>2.0</td>\n",
       "      <td>IAD</td>\n",
       "      <td>TPA</td>\n",
       "      <td>810</td>\n",
       "      <td>430.088496</td>\n",
       "      <td>Less than 15</td>\n",
       "    </tr>\n",
       "    <tr>\n",
       "      <th>2</th>\n",
       "      <td>1</td>\n",
       "      <td>4</td>\n",
       "      <td>WN</td>\n",
       "      <td>76.0</td>\n",
       "      <td>14.0</td>\n",
       "      <td>IND</td>\n",
       "      <td>BWI</td>\n",
       "      <td>515</td>\n",
       "      <td>406.578947</td>\n",
       "      <td>Less than 15</td>\n",
       "    </tr>\n",
       "    <tr>\n",
       "      <th>3</th>\n",
       "      <td>1</td>\n",
       "      <td>4</td>\n",
       "      <td>WN</td>\n",
       "      <td>77.0</td>\n",
       "      <td>34.0</td>\n",
       "      <td>IND</td>\n",
       "      <td>BWI</td>\n",
       "      <td>515</td>\n",
       "      <td>401.298701</td>\n",
       "      <td>Between 30 and 60</td>\n",
       "    </tr>\n",
       "    <tr>\n",
       "      <th>4</th>\n",
       "      <td>1</td>\n",
       "      <td>4</td>\n",
       "      <td>WN</td>\n",
       "      <td>87.0</td>\n",
       "      <td>11.0</td>\n",
       "      <td>IND</td>\n",
       "      <td>JAX</td>\n",
       "      <td>688</td>\n",
       "      <td>474.482759</td>\n",
       "      <td>Less than 15</td>\n",
       "    </tr>\n",
       "  </tbody>\n",
       "</table>\n",
       "</div>"
      ],
      "text/plain": [
       "   Month  DayOfWeek UniqueCarrier  AirTime  ArrDelay Origin Dest  Distance  \\\n",
       "0      1          4            WN    116.0     -14.0    IAD  TPA       810   \n",
       "1      1          4            WN    113.0       2.0    IAD  TPA       810   \n",
       "2      1          4            WN     76.0      14.0    IND  BWI       515   \n",
       "3      1          4            WN     77.0      34.0    IND  BWI       515   \n",
       "4      1          4            WN     87.0      11.0    IND  JAX       688   \n",
       "\n",
       "   FlightSpeed      DelayInterval  \n",
       "0   418.965517       Less than 15  \n",
       "1   430.088496       Less than 15  \n",
       "2   406.578947       Less than 15  \n",
       "3   401.298701  Between 30 and 60  \n",
       "4   474.482759       Less than 15  "
      ]
     },
     "execution_count": 13,
     "metadata": {},
     "output_type": "execute_result"
    }
   ],
   "source": [
    "# definim una funció que farem servir per crear la nova columna amb el mètode apply()\n",
    "def delay_interval(x): \n",
    "    if x < 15: \n",
    "        return \"Less than 15\"\n",
    "    elif x < 30: \n",
    "        return \"Between 15 and 30\"\n",
    "    elif x < 60: \n",
    "        return \"Between 30 and 60\"\n",
    "    else: \n",
    "        return \"More than 60\"\n",
    "\n",
    "delayed['DelayInterval'] = delayed['ArrDelay'].apply(delay_interval)\n",
    "delayed.head()"
   ]
  },
  {
   "cell_type": "markdown",
   "id": "1d6ca743",
   "metadata": {
    "ExecuteTime": {
     "end_time": "2022-02-02T16:42:10.143437Z",
     "start_time": "2022-02-02T16:42:10.129007Z"
    }
   },
   "source": [
    "Veiem que ara tenim una nova columna, la representarem amb un pie chart a veure si podem treure alguna conclusió. Primer contarem les vegades que es repeteix cada interval: "
   ]
  },
  {
   "cell_type": "code",
   "execution_count": 14,
   "id": "95036cef",
   "metadata": {
    "ExecuteTime": {
     "end_time": "2022-02-07T18:45:37.658007Z",
     "start_time": "2022-02-07T18:45:37.565652Z"
    }
   },
   "outputs": [
    {
     "data": {
      "text/plain": [
       "Less than 15         680881\n",
       "More than 60         447824\n",
       "Between 30 and 60    403197\n",
       "Between 15 and 30    396462\n",
       "Name: DelayInterval, dtype: int64"
      ]
     },
     "execution_count": 14,
     "metadata": {},
     "output_type": "execute_result"
    }
   ],
   "source": [
    "delayed['DelayInterval'].value_counts()"
   ]
  },
  {
   "cell_type": "code",
   "execution_count": 15,
   "id": "95026aa8",
   "metadata": {
    "ExecuteTime": {
     "end_time": "2022-02-07T18:45:37.784342Z",
     "start_time": "2022-02-07T18:45:37.659009Z"
    }
   },
   "outputs": [
    {
     "data": {
      "image/png": "[encoded data removed]",
      "text/plain": [
       "<Figure size 504x504 with 1 Axes>"
      ]
     },
     "metadata": {},
     "output_type": "display_data"
    }
   ],
   "source": [
    "# fem un pie chart, ho faig d'aquesta manera per poder escollir l'ordre dels slices: \n",
    "labels = \"More than 60\", \"Between 30 and 60\",\"Between 15 and 30\", \"Less than 15\"\n",
    "sizes = [447824, 403197, 396462,680881]\n",
    "fig1, ax1 = plt.subplots(figsize=(7,7))\n",
    "ax1.pie(sizes, labels=labels, autopct='%1.1f%%', shadow= True, startangle=90, colors= ('blue', 'purple','magenta','pink'))\n",
    "ax1.axis('equal')\n",
    "plt.title('Delayed flights in minutes')\n",
    "plt.show()\n"
   ]
  },
  {
   "cell_type": "markdown",
   "id": "749db11e",
   "metadata": {},
   "source": [
    "Podem veure que quasi la meitat dels vols (44%) tenen un retràs de 30 minuts o més, aixó explicaria que la desviació estàndar sigui tan alta, hi han molts vols on el retras és petit (menys de 15 minuts), peró també hi ha molts on el retràs és molt elevat (el 23,2 % amb més de 60 minuts!!)"
   ]
  },
  {
   "cell_type": "markdown",
   "id": "2073e573",
   "metadata": {},
   "source": [
    "Adjuntem una gràfica on veiem la **distribució dels temps de retràs del vol mesurats en l'arribada.** "
   ]
  },
  {
   "cell_type": "markdown",
   "id": "6614aa56",
   "metadata": {
    "ExecuteTime": {
     "end_time": "2022-02-08T09:33:07.166817Z",
     "start_time": "2022-02-08T09:33:07.145348Z"
    }
   },
   "source": [
    "<img src=\"plot2.png\" width=\"800\" height=\"400\">"
   ]
  },
  {
   "cell_type": "markdown",
   "id": "8ee32174",
   "metadata": {},
   "source": [
    "Veiem que del total de vols, hi han **204956 vols que han arribat a temps** (temps de retard en destí igual o més petit que zero.)"
   ]
  },
  {
   "cell_type": "markdown",
   "id": "00cea3bc",
   "metadata": {},
   "source": [
    "Si volguèssim veure la **relació entre el retràs del vol en la sortida i en l'arribada**  ho podem veure amb un scatterplot, podem observar que els dos temps de retràs estan clarament relacionats. "
   ]
  },
  {
   "cell_type": "markdown",
   "id": "1638e36f",
   "metadata": {},
   "source": [
    "<img src=\"plot4.png\" width=\"800\" height=\"400\">"
   ]
  },
  {
   "cell_type": "markdown",
   "id": "ba604f85",
   "metadata": {},
   "source": [
    "També podem fer un gràfic de **boxplots on apareguin els temps de retràs en la sortida i en l'arribada del vol per cada companyia:**"
   ]
  },
  {
   "cell_type": "markdown",
   "id": "d2d4e987",
   "metadata": {},
   "source": [
    "<img src=\"plot5.png\" width=\"800\" height=\"400\">"
   ]
  },
  {
   "cell_type": "markdown",
   "id": "206a93bd",
   "metadata": {},
   "source": [
    "Podem intentar explicar aquests retards, anem veure si tenen alguna relació amb la distància o amb el temps de vol, farem un càlcul de correlació entre aquestes variables: "
   ]
  },
  {
   "cell_type": "code",
   "execution_count": 16,
   "id": "ab0723f5",
   "metadata": {
    "ExecuteTime": {
     "end_time": "2022-02-07T18:45:38.004382Z",
     "start_time": "2022-02-07T18:45:37.785329Z"
    }
   },
   "outputs": [
    {
     "data": {
      "text/html": [
       "<div>\n",
       "<style scoped>\n",
       "    .dataframe tbody tr th:only-of-type {\n",
       "        vertical-align: middle;\n",
       "    }\n",
       "\n",
       "    .dataframe tbody tr th {\n",
       "        vertical-align: top;\n",
       "    }\n",
       "\n",
       "    .dataframe thead th {\n",
       "        text-align: right;\n",
       "    }\n",
       "</style>\n",
       "<table border=\"1\" class=\"dataframe\">\n",
       "  <thead>\n",
       "    <tr style=\"text-align: right;\">\n",
       "      <th></th>\n",
       "      <th>AirTime</th>\n",
       "      <th>ArrDelay</th>\n",
       "      <th>Distance</th>\n",
       "    </tr>\n",
       "  </thead>\n",
       "  <tbody>\n",
       "    <tr>\n",
       "      <th>AirTime</th>\n",
       "      <td>1.000000</td>\n",
       "      <td>-0.000185</td>\n",
       "      <td>0.980297</td>\n",
       "    </tr>\n",
       "    <tr>\n",
       "      <th>ArrDelay</th>\n",
       "      <td>-0.000185</td>\n",
       "      <td>1.000000</td>\n",
       "      <td>-0.029853</td>\n",
       "    </tr>\n",
       "    <tr>\n",
       "      <th>Distance</th>\n",
       "      <td>0.980297</td>\n",
       "      <td>-0.029853</td>\n",
       "      <td>1.000000</td>\n",
       "    </tr>\n",
       "  </tbody>\n",
       "</table>\n",
       "</div>"
      ],
      "text/plain": [
       "           AirTime  ArrDelay  Distance\n",
       "AirTime   1.000000 -0.000185  0.980297\n",
       "ArrDelay -0.000185  1.000000 -0.029853\n",
       "Distance  0.980297 -0.029853  1.000000"
      ]
     },
     "execution_count": 16,
     "metadata": {},
     "output_type": "execute_result"
    }
   ],
   "source": [
    "delayed[['AirTime','ArrDelay', 'Distance']].corr()"
   ]
  },
  {
   "cell_type": "markdown",
   "id": "861ebb16",
   "metadata": {},
   "source": [
    "Veiem que **no hi ha cap correlació entre els retards en l'arribada dels vols i la distància del vol o el temps de vol** (0% en el cas de 'Airtime' i -2,9 % en el cas de 'Distance'). Haurem de seguir investigant en aquest sentit. \n",
    "\n",
    "Evidentment podem veure que la correlació entre temps de vol i distància de vol es molt alta (del 98%). "
   ]
  },
  {
   "cell_type": "markdown",
   "id": "8e7381ee",
   "metadata": {},
   "source": [
    "Per conèixer quins són els **vols més endarrerits**, els podem ordenar en sentit descendent a partir de la columna 'ArrDelay'. Comprobarem els 10 vols que tenen més retràs: "
   ]
  },
  {
   "cell_type": "code",
   "execution_count": 17,
   "id": "cc283e1f",
   "metadata": {
    "ExecuteTime": {
     "end_time": "2022-02-07T18:45:38.514193Z",
     "start_time": "2022-02-07T18:45:38.005299Z"
    }
   },
   "outputs": [
    {
     "data": {
      "text/html": [
       "<div>\n",
       "<style scoped>\n",
       "    .dataframe tbody tr th:only-of-type {\n",
       "        vertical-align: middle;\n",
       "    }\n",
       "\n",
       "    .dataframe tbody tr th {\n",
       "        vertical-align: top;\n",
       "    }\n",
       "\n",
       "    .dataframe thead th {\n",
       "        text-align: right;\n",
       "    }\n",
       "</style>\n",
       "<table border=\"1\" class=\"dataframe\">\n",
       "  <thead>\n",
       "    <tr style=\"text-align: right;\">\n",
       "      <th></th>\n",
       "      <th>Month</th>\n",
       "      <th>DayOfWeek</th>\n",
       "      <th>UniqueCarrier</th>\n",
       "      <th>AirTime</th>\n",
       "      <th>ArrDelay</th>\n",
       "      <th>Origin</th>\n",
       "      <th>Dest</th>\n",
       "      <th>Distance</th>\n",
       "      <th>FlightSpeed</th>\n",
       "      <th>DelayInterval</th>\n",
       "    </tr>\n",
       "  </thead>\n",
       "  <tbody>\n",
       "    <tr>\n",
       "      <th>322516</th>\n",
       "      <td>2</td>\n",
       "      <td>7</td>\n",
       "      <td>NW</td>\n",
       "      <td>437.0</td>\n",
       "      <td>2461.0</td>\n",
       "      <td>HNL</td>\n",
       "      <td>MSP</td>\n",
       "      <td>3972</td>\n",
       "      <td>545.354691</td>\n",
       "      <td>More than 60</td>\n",
       "    </tr>\n",
       "    <tr>\n",
       "      <th>686014</th>\n",
       "      <td>4</td>\n",
       "      <td>4</td>\n",
       "      <td>NW</td>\n",
       "      <td>132.0</td>\n",
       "      <td>2453.0</td>\n",
       "      <td>CLT</td>\n",
       "      <td>MSP</td>\n",
       "      <td>930</td>\n",
       "      <td>422.727273</td>\n",
       "      <td>More than 60</td>\n",
       "    </tr>\n",
       "    <tr>\n",
       "      <th>839306</th>\n",
       "      <td>5</td>\n",
       "      <td>2</td>\n",
       "      <td>NW</td>\n",
       "      <td>145.0</td>\n",
       "      <td>1951.0</td>\n",
       "      <td>RSW</td>\n",
       "      <td>DTW</td>\n",
       "      <td>1085</td>\n",
       "      <td>448.965517</td>\n",
       "      <td>More than 60</td>\n",
       "    </tr>\n",
       "    <tr>\n",
       "      <th>1009553</th>\n",
       "      <td>6</td>\n",
       "      <td>5</td>\n",
       "      <td>MQ</td>\n",
       "      <td>50.0</td>\n",
       "      <td>1707.0</td>\n",
       "      <td>LIT</td>\n",
       "      <td>DFW</td>\n",
       "      <td>304</td>\n",
       "      <td>364.800000</td>\n",
       "      <td>More than 60</td>\n",
       "    </tr>\n",
       "    <tr>\n",
       "      <th>1881639</th>\n",
       "      <td>12</td>\n",
       "      <td>5</td>\n",
       "      <td>NW</td>\n",
       "      <td>192.0</td>\n",
       "      <td>1655.0</td>\n",
       "      <td>BOS</td>\n",
       "      <td>MSP</td>\n",
       "      <td>1124</td>\n",
       "      <td>351.250000</td>\n",
       "      <td>More than 60</td>\n",
       "    </tr>\n",
       "    <tr>\n",
       "      <th>1497823</th>\n",
       "      <td>9</td>\n",
       "      <td>1</td>\n",
       "      <td>NW</td>\n",
       "      <td>75.0</td>\n",
       "      <td>1583.0</td>\n",
       "      <td>OMA</td>\n",
       "      <td>MSP</td>\n",
       "      <td>282</td>\n",
       "      <td>225.600000</td>\n",
       "      <td>More than 60</td>\n",
       "    </tr>\n",
       "    <tr>\n",
       "      <th>685437</th>\n",
       "      <td>4</td>\n",
       "      <td>7</td>\n",
       "      <td>NW</td>\n",
       "      <td>63.0</td>\n",
       "      <td>1542.0</td>\n",
       "      <td>MOT</td>\n",
       "      <td>MSP</td>\n",
       "      <td>449</td>\n",
       "      <td>427.619048</td>\n",
       "      <td>More than 60</td>\n",
       "    </tr>\n",
       "    <tr>\n",
       "      <th>163379</th>\n",
       "      <td>1</td>\n",
       "      <td>6</td>\n",
       "      <td>AA</td>\n",
       "      <td>207.0</td>\n",
       "      <td>1525.0</td>\n",
       "      <td>EGE</td>\n",
       "      <td>MIA</td>\n",
       "      <td>1811</td>\n",
       "      <td>524.927536</td>\n",
       "      <td>More than 60</td>\n",
       "    </tr>\n",
       "    <tr>\n",
       "      <th>1214839</th>\n",
       "      <td>7</td>\n",
       "      <td>3</td>\n",
       "      <td>NW</td>\n",
       "      <td>160.0</td>\n",
       "      <td>1510.0</td>\n",
       "      <td>SEA</td>\n",
       "      <td>MSP</td>\n",
       "      <td>1399</td>\n",
       "      <td>524.625000</td>\n",
       "      <td>More than 60</td>\n",
       "    </tr>\n",
       "    <tr>\n",
       "      <th>521096</th>\n",
       "      <td>3</td>\n",
       "      <td>5</td>\n",
       "      <td>NW</td>\n",
       "      <td>47.0</td>\n",
       "      <td>1490.0</td>\n",
       "      <td>BNA</td>\n",
       "      <td>MEM</td>\n",
       "      <td>200</td>\n",
       "      <td>255.319149</td>\n",
       "      <td>More than 60</td>\n",
       "    </tr>\n",
       "  </tbody>\n",
       "</table>\n",
       "</div>"
      ],
      "text/plain": [
       "         Month  DayOfWeek UniqueCarrier  AirTime  ArrDelay Origin Dest  \\\n",
       "322516       2          7            NW    437.0    2461.0    HNL  MSP   \n",
       "686014       4          4            NW    132.0    2453.0    CLT  MSP   \n",
       "839306       5          2            NW    145.0    1951.0    RSW  DTW   \n",
       "1009553      6          5            MQ     50.0    1707.0    LIT  DFW   \n",
       "1881639     12          5            NW    192.0    1655.0    BOS  MSP   \n",
       "1497823      9          1            NW     75.0    1583.0    OMA  MSP   \n",
       "685437       4          7            NW     63.0    1542.0    MOT  MSP   \n",
       "163379       1          6            AA    207.0    1525.0    EGE  MIA   \n",
       "1214839      7          3            NW    160.0    1510.0    SEA  MSP   \n",
       "521096       3          5            NW     47.0    1490.0    BNA  MEM   \n",
       "\n",
       "         Distance  FlightSpeed DelayInterval  \n",
       "322516       3972   545.354691  More than 60  \n",
       "686014        930   422.727273  More than 60  \n",
       "839306       1085   448.965517  More than 60  \n",
       "1009553       304   364.800000  More than 60  \n",
       "1881639      1124   351.250000  More than 60  \n",
       "1497823       282   225.600000  More than 60  \n",
       "685437        449   427.619048  More than 60  \n",
       "163379       1811   524.927536  More than 60  \n",
       "1214839      1399   524.625000  More than 60  \n",
       "521096        200   255.319149  More than 60  "
      ]
     },
     "execution_count": 17,
     "metadata": {},
     "output_type": "execute_result"
    }
   ],
   "source": [
    "most_delayed_flights = delayed.sort_values(by=['ArrDelay'], ascending= False)\n",
    "most_delayed_flights[:10]"
   ]
  },
  {
   "cell_type": "markdown",
   "id": "eef841c9",
   "metadata": {
    "ExecuteTime": {
     "end_time": "2022-02-02T18:07:32.958087Z",
     "start_time": "2022-02-02T18:07:32.947572Z"
    }
   },
   "source": [
    "#### Resum de les dades categòriques"
   ]
  },
  {
   "cell_type": "markdown",
   "id": "48425b9e",
   "metadata": {},
   "source": [
    "* **Columna 'UniqueCarrier'**"
   ]
  },
  {
   "cell_type": "markdown",
   "id": "41735659",
   "metadata": {},
   "source": [
    "Mirarem la columna 'UniqueCarrier' que ens diu la companyia que opera cada vol. Ens interessaria saber el **temps de enraderimient mitjà per companyia** per veure si hi han moltes diferències entre les companyies. Podem fer: "
   ]
  },
  {
   "cell_type": "code",
   "execution_count": 18,
   "id": "e6b959ca",
   "metadata": {
    "ExecuteTime": {
     "end_time": "2022-02-07T18:45:38.657500Z",
     "start_time": "2022-02-07T18:45:38.515161Z"
    }
   },
   "outputs": [
    {
     "data": {
      "text/plain": [
       "UniqueCarrier\n",
       "YV    55.287049\n",
       "B6    55.088739\n",
       "OH    51.016968\n",
       "XE    50.181471\n",
       "UA    47.784399\n",
       "EV    47.554255\n",
       "9E    46.936493\n",
       "AA    46.561553\n",
       "OO    45.368768\n",
       "MQ    45.295058\n",
       "NW    43.911000\n",
       "FL    43.683157\n",
       "CO    40.568449\n",
       "DL    39.881507\n",
       "US    36.445019\n",
       "AS    36.060882\n",
       "HA    34.209449\n",
       "WN    30.087884\n",
       "F9    27.938953\n",
       "AQ    21.255376\n",
       "Name: ArrDelay, dtype: float64"
      ]
     },
     "execution_count": 18,
     "metadata": {},
     "output_type": "execute_result"
    }
   ],
   "source": [
    "carriers_mean_delay = delayed.groupby('UniqueCarrier')['ArrDelay'].mean().sort_values(ascending = False)\n",
    "carriers_mean_delay"
   ]
  },
  {
   "cell_type": "markdown",
   "id": "3bc1c542",
   "metadata": {},
   "source": [
    "Podem fer un gràfic de **boxplot amb els retards a l'arribada per companyia on hem inclós també el temps mitjà de retràs:** "
   ]
  },
  {
   "cell_type": "markdown",
   "id": "f4ff16e4",
   "metadata": {},
   "source": [
    "<img src=\"plot3.png\" width=\"800\" height=\"400\">"
   ]
  },
  {
   "cell_type": "markdown",
   "id": "a13cfba9",
   "metadata": {},
   "source": [
    "Efectivament veiem que hi han moltes diferències en el temps mitjà de retràs segons la companyia (més del doble de temps entre la primera i la última, per exemple ). "
   ]
  },
  {
   "cell_type": "markdown",
   "id": "b6a97615",
   "metadata": {},
   "source": [
    "Si volem fer una **comparació entre diferents variables numèriques** (per exemple, temps de retràs en sortida, temps de retard en l'arribada i temps total de duració del vol) **segons cada companyia** ho podem representar amb un ridgeline plot: "
   ]
  },
  {
   "cell_type": "markdown",
   "id": "e09ca4cb",
   "metadata": {},
   "source": [
    "<img src=\"plot6.png\" width=\"800\" height=\"400\">"
   ]
  },
  {
   "cell_type": "markdown",
   "id": "3fe0a011",
   "metadata": {},
   "source": [
    "Ara farem una taula per veure les **5 companyies que tenen més endarreriments acumulats:**  "
   ]
  },
  {
   "cell_type": "code",
   "execution_count": 19,
   "id": "49f74c75",
   "metadata": {
    "ExecuteTime": {
     "end_time": "2022-02-07T18:45:38.815835Z",
     "start_time": "2022-02-07T18:45:38.658449Z"
    }
   },
   "outputs": [
    {
     "data": {
      "text/plain": [
       "UniqueCarrier\n",
       "WN    11319092.0\n",
       "AA     8889066.0\n",
       "UA     6733013.0\n",
       "MQ     6396704.0\n",
       "OO     5978424.0\n",
       "Name: ArrDelay, dtype: float64"
      ]
     },
     "execution_count": 19,
     "metadata": {},
     "output_type": "execute_result"
    }
   ],
   "source": [
    "# fem la suma dels minuts acumulats per companyia fent servir el mètode groupby i després ho ordenem amb sort_values()\n",
    "\n",
    "carriers_cumulative_delay = delayed.groupby('UniqueCarrier')['ArrDelay'].aggregate(sum) \n",
    "carriers_cumulative_delay.sort_values(ascending = False)[:5] "
   ]
  },
  {
   "cell_type": "markdown",
   "id": "df1578ef",
   "metadata": {},
   "source": [
    "Aquí també veiem moltes difrències entre companyies, però em de tenir en compte que en aquest cas estem comparant les companyies sense tenir en compte el nombre de vols que opera cadascuna, estem mirant dades absolutes. Es útil per veure quina compayia acumula més minuts de retràs (seria WN). "
   ]
  },
  {
   "cell_type": "markdown",
   "id": "f221698b",
   "metadata": {},
   "source": [
    "Adjuntem un gràfic on veiem els **vols que ha realitzat cada companyia.**"
   ]
  },
  {
   "cell_type": "markdown",
   "id": "ab00aace",
   "metadata": {},
   "source": [
    "<img src=\"plot1.png\" width=\"800\" height=\"400\">"
   ]
  },
  {
   "cell_type": "markdown",
   "id": "6c0dc2e9",
   "metadata": {},
   "source": [
    "* **Columna 'DayOfWeek'**"
   ]
  },
  {
   "cell_type": "markdown",
   "id": "3ee2b3d5",
   "metadata": {},
   "source": [
    "Si mirem el calendari sabem que el dia 1 és refereix a dilluns i el 7 a diumenge. Ara mirarem vols per dia de la setmana a veure si ens donen alguna informació."
   ]
  },
  {
   "cell_type": "code",
   "execution_count": 20,
   "id": "17f33d88",
   "metadata": {
    "ExecuteTime": {
     "end_time": "2022-02-07T18:45:38.846890Z",
     "start_time": "2022-02-07T18:45:38.816841Z"
    }
   },
   "outputs": [
    {
     "data": {
      "text/plain": [
       "5    321982\n",
       "1    289821\n",
       "4    288344\n",
       "7    284939\n",
       "3    261497\n",
       "2    259581\n",
       "6    222200\n",
       "Name: DayOfWeek, dtype: int64"
      ]
     },
     "execution_count": 20,
     "metadata": {},
     "output_type": "execute_result"
    }
   ],
   "source": [
    "flights_per_day = delayed['DayOfWeek'].value_counts().sort_values(ascending = False)\n",
    "flights_per_day"
   ]
  },
  {
   "cell_type": "markdown",
   "id": "155a8bbf",
   "metadata": {},
   "source": [
    "Veiem que el dia 5 (divendres) és quan hi han més vols i el dissabte quan menys, podem mirar ara el **temps mitjà de retràs segons el dia de la setmana:**"
   ]
  },
  {
   "cell_type": "code",
   "execution_count": 21,
   "id": "7d377f52",
   "metadata": {
    "ExecuteTime": {
     "end_time": "2022-02-07T18:45:38.910833Z",
     "start_time": "2022-02-07T18:45:38.847844Z"
    }
   },
   "outputs": [
    {
     "data": {
      "text/plain": [
       "DayOfWeek\n",
       "7    44.697205\n",
       "2    43.806114\n",
       "5    43.493618\n",
       "1    41.731417\n",
       "4    41.071599\n",
       "3    40.438338\n",
       "6    39.393474\n",
       "Name: ArrDelay, dtype: float64"
      ]
     },
     "execution_count": 21,
     "metadata": {},
     "output_type": "execute_result"
    }
   ],
   "source": [
    "mean_delays_per_dayofweek = delayed.groupby('DayOfWeek')['ArrDelay'].mean().sort_values(ascending = False)\n",
    "mean_delays_per_dayofweek"
   ]
  },
  {
   "cell_type": "markdown",
   "id": "724c0466",
   "metadata": {},
   "source": [
    "El diumenge es el dia que té mès retrasos, pero veiem que les dades són bastant centrades, no es troben gaires diferències i el valor mitjà és semblant en tots els dies."
   ]
  },
  {
   "cell_type": "markdown",
   "id": "c3561f77",
   "metadata": {},
   "source": [
    "* **Columna 'Month':**"
   ]
  },
  {
   "cell_type": "markdown",
   "id": "4b0c2b11",
   "metadata": {},
   "source": [
    "Anem a fer el mateix segons el mes del vol a veure si treiem més informació. Calcularem els minuts mitjans de retràs per vol segons el mes de l'any: "
   ]
  },
  {
   "cell_type": "code",
   "execution_count": 22,
   "id": "7d617ba3",
   "metadata": {
    "ExecuteTime": {
     "end_time": "2022-02-07T18:45:38.974095Z",
     "start_time": "2022-02-07T18:45:38.911940Z"
    }
   },
   "outputs": [
    {
     "data": {
      "text/plain": [
       "Month\n",
       "1     42.800747\n",
       "2     45.005392\n",
       "3     41.914584\n",
       "4     38.835305\n",
       "5     37.593999\n",
       "6     46.532728\n",
       "7     45.995136\n",
       "8     41.434409\n",
       "9     35.168126\n",
       "10    31.385769\n",
       "11    37.705510\n",
       "12    49.481435\n",
       "Name: ArrDelay, dtype: float64"
      ]
     },
     "execution_count": 22,
     "metadata": {},
     "output_type": "execute_result"
    }
   ],
   "source": [
    "mean_delays_per_month = delayed.groupby('Month')['ArrDelay'].mean()\n",
    "mean_delays_per_month"
   ]
  },
  {
   "cell_type": "markdown",
   "id": "00eea57e",
   "metadata": {},
   "source": [
    "Aquí veiem que la mitjana varia bastant segons el mes de l'any, potser si que hi ha alguna relació entre el mes i els temps de retràs en els vols. Podem posar-ho en un gràfic per veure-ho millor:"
   ]
  },
  {
   "cell_type": "code",
   "execution_count": 23,
   "id": "b686fbb8",
   "metadata": {
    "ExecuteTime": {
     "end_time": "2022-02-07T18:45:39.130134Z",
     "start_time": "2022-02-07T18:45:38.975095Z"
    }
   },
   "outputs": [
    {
     "data": {
      "text/plain": [
       "<AxesSubplot:title={'center':'Average delay in minutes per month'}, xlabel='Month'>"
      ]
     },
     "execution_count": 23,
     "metadata": {},
     "output_type": "execute_result"
    },
    {
     "data": {
      "image/png": "[encoded data removed]",
      "text/plain": [
       "<Figure size 576x360 with 1 Axes>"
      ]
     },
     "metadata": {
      "needs_background": "light"
     },
     "output_type": "display_data"
    }
   ],
   "source": [
    "mean_delays_per_month.plot(kind= 'bar', figsize= (8,5), color='purple', title=\"Average delay in minutes per month\")"
   ]
  },
  {
   "cell_type": "markdown",
   "id": "7bb2c1ee",
   "metadata": {},
   "source": [
    "Sembla que hi ha una estacionalitat en el temps mitjà de retras, potser concideix amb el nombre de vols, anem a comprobar-ho. Mirarem primer el nombre de vols per mes: "
   ]
  },
  {
   "cell_type": "code",
   "execution_count": 24,
   "id": "ec5bb9bf",
   "metadata": {
    "ExecuteTime": {
     "end_time": "2022-02-07T18:45:39.161363Z",
     "start_time": "2022-02-07T18:45:39.130462Z"
    }
   },
   "outputs": [
    {
     "data": {
      "text/plain": [
       "1     182913\n",
       "2     188624\n",
       "3     200114\n",
       "4     154783\n",
       "5     152709\n",
       "6     199888\n",
       "7     182171\n",
       "8     161974\n",
       "9      95351\n",
       "10    103181\n",
       "11    105148\n",
       "12    201508\n",
       "Name: Month, dtype: int64"
      ]
     },
     "execution_count": 24,
     "metadata": {},
     "output_type": "execute_result"
    }
   ],
   "source": [
    "flights_per_month = delayed['Month'].value_counts().sort_index()\n",
    "flights_per_month"
   ]
  },
  {
   "cell_type": "markdown",
   "id": "9d9019c9",
   "metadata": {},
   "source": [
    "Ho possarem en un gràfic també per poder-ho comparar amb el gràfic anterior:"
   ]
  },
  {
   "cell_type": "code",
   "execution_count": 25,
   "id": "13d54d54",
   "metadata": {
    "ExecuteTime": {
     "end_time": "2022-02-07T18:45:39.304487Z",
     "start_time": "2022-02-07T18:45:39.162322Z"
    }
   },
   "outputs": [
    {
     "data": {
      "text/plain": [
       "<AxesSubplot:title={'center':'Flights per month'}>"
      ]
     },
     "execution_count": 25,
     "metadata": {},
     "output_type": "execute_result"
    },
    {
     "data": {
      "image/png": "[encoded data removed]",
      "text/plain": [
       "<Figure size 576x360 with 1 Axes>"
      ]
     },
     "metadata": {
      "needs_background": "light"
     },
     "output_type": "display_data"
    }
   ],
   "source": [
    "flights_per_month.plot(kind='bar', figsize= (8,5), color='yellow', title= 'Flights per month')"
   ]
  },
  {
   "cell_type": "markdown",
   "id": "763c3f85",
   "metadata": {},
   "source": [
    "Veiem que la forma dels dos grafics és la mateixa, segueix la mateixa tendència. Sembla que els periodes on el nombre de vols es més alt coincideix amb els periodes on el temps mitja de retràs puja. Podem medir la **correlació entre el nombre de vols i la mitjana de endarreriments per mes:**"
   ]
  },
  {
   "cell_type": "code",
   "execution_count": 26,
   "id": "b2685805",
   "metadata": {
    "ExecuteTime": {
     "end_time": "2022-02-07T18:45:39.319847Z",
     "start_time": "2022-02-07T18:45:39.305487Z"
    }
   },
   "outputs": [
    {
     "data": {
      "text/plain": [
       "0.8843764546936563"
      ]
     },
     "execution_count": 26,
     "metadata": {},
     "output_type": "execute_result"
    }
   ],
   "source": [
    "correlation = mean_delays_per_month.corr(flights_per_month)\n",
    "correlation"
   ]
  },
  {
   "cell_type": "markdown",
   "id": "364cdbb0",
   "metadata": {},
   "source": [
    "Ens dona una **correlació positiva de 0.8843 (88,4 %)**. És una correlació molt alta. Aixó ens diu que el nombre de vols afecta de manera directa en el temps de retras, els periodes en els quals puja el nombre de vols també puja el temps mitjà de endarreriment."
   ]
  },
  {
   "cell_type": "markdown",
   "id": "2593c7a3",
   "metadata": {},
   "source": [
    "**CONCLUSIONS**: Segons les dades que hem analitzat sembla que el temps d'endarreriments depen principalment de dos factors: \n",
    "+ La companyia que opera el vol.\n",
    "* El nombre de vols del periode. "
   ]
  },
  {
   "cell_type": "markdown",
   "id": "81e71130",
   "metadata": {},
   "source": [
    "#### Exercici 3"
   ]
  },
  {
   "cell_type": "markdown",
   "id": "2dbf7a97",
   "metadata": {},
   "source": [
    "Exporta el data set net i amb les noves columnes a Excel."
   ]
  },
  {
   "cell_type": "markdown",
   "id": "f9c7fa8c",
   "metadata": {},
   "source": [
    "Em dona error en fer-ho d'un cop així que ho dividirem en 4 parts, ja que em dona error al pujar-ho a GitHub si no."
   ]
  },
  {
   "cell_type": "code",
   "execution_count": 27,
   "id": "5b15affd",
   "metadata": {
    "ExecuteTime": {
     "end_time": "2022-02-07T18:45:39.382453Z",
     "start_time": "2022-02-07T18:45:39.321355Z"
    }
   },
   "outputs": [],
   "source": [
    "final_delayed_part1 = delayed[:500000].copy()\n",
    "final_delayed_part2 = delayed[500000:1000000].copy()\n",
    "final_delayed_part3 = delayed[1000000:1500000].copy()\n",
    "final_delayed_part4 = delayed[1500000:].copy()"
   ]
  },
  {
   "cell_type": "code",
   "execution_count": 28,
   "id": "f9115859",
   "metadata": {
    "ExecuteTime": {
     "end_time": "2022-02-07T18:45:39.397773Z",
     "start_time": "2022-02-07T18:45:39.383450Z"
    }
   },
   "outputs": [],
   "source": [
    "# farem servir el mètode to_excel()\n",
    "#final_delayed_part1.to_excel('final_delayed_part1.xlsx', index = False)\n",
    "#final_delayed_part2.to_excel('final_delayed_part2.xlsx', index = False)\n",
    "#final_delayed_part3.to_excel('final_delayed_part3.xlsx', index = False)\n",
    "#final_delayed_part4.to_excel('final_delayed_part4.xlsx', index = False)"
   ]
  }
 ],
 "metadata": {
  "kernelspec": {
   "display_name": "Python 3 (ipykernel)",
   "language": "python",
   "name": "python3"
  },
  "language_info": {
   "codemirror_mode": {
    "name": "ipython",
    "version": 3
   },
   "file_extension": ".py",
   "mimetype": "text/x-python",
   "name": "python",
   "nbconvert_exporter": "python",
   "pygments_lexer": "ipython3",
   "version": "3.9.7"
  }
 },
 "nbformat": 4,
 "nbformat_minor": 5
}
